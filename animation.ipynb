{
 "cells": [
  {
   "cell_type": "markdown",
   "metadata": {},
   "source": [
    "# Animation"
   ]
  },
  {
   "cell_type": "code",
   "execution_count": 1,
   "metadata": {},
   "outputs": [],
   "source": [
    "import os\n",
    "from skyfield.api import load\n",
    "from ground_path import ground_path\n",
    "from tqdm import tqdm\n",
    "from subprocess import Popen, PIPE\n",
    "import pandas as pd\n",
    "from plotting import plot_ground_path\n",
    "from ground_path import ground_path\n",
    "import matplotlib.pyplot as plt\n",
    "import cartopy\n",
    "import matplotlib.gridspec as gridspec"
   ]
  },
  {
   "cell_type": "markdown",
   "metadata": {},
   "source": [
    "### Load data"
   ]
  },
  {
   "cell_type": "code",
   "execution_count": 2,
   "metadata": {},
   "outputs": [
    {
     "name": "stderr",
     "output_type": "stream",
     "text": [
      "[#################################] 100% tle.txt\n"
     ]
    },
    {
     "name": "stdout",
     "output_type": "stream",
     "text": [
      "EarthSatellite 'HODOYOSHI-1' number=40299 epoch=2018-08-06T18:53:38Z\n"
     ]
    }
   ],
   "source": [
    "resource_url = 'http://celestrak.com/NORAD/elements/resource.txt'\n",
    "\n",
    "fname = 'tle.txt'\n",
    "if os.path.isfile(fname):\n",
    "    os.remove(fname)\n",
    "\n",
    "satellites = load.tle(resource_url, filename=fname, reload=True)\n",
    "satellite = satellites['HODOYOSHI-1']\n",
    "print(satellite)"
   ]
  },
  {
   "cell_type": "code",
   "execution_count": 3,
   "metadata": {},
   "outputs": [
    {
     "name": "stderr",
     "output_type": "stream",
     "text": [
      "100%|██████████| 1441/1441 [00:02<00:00, 611.47it/s]\n"
     ]
    },
    {
     "data": {
      "text/html": [
       "<div>\n",
       "<style scoped>\n",
       "    .dataframe tbody tr th:only-of-type {\n",
       "        vertical-align: middle;\n",
       "    }\n",
       "\n",
       "    .dataframe tbody tr th {\n",
       "        vertical-align: top;\n",
       "    }\n",
       "\n",
       "    .dataframe thead th {\n",
       "        text-align: right;\n",
       "    }\n",
       "</style>\n",
       "<table border=\"1\" class=\"dataframe\">\n",
       "  <thead>\n",
       "    <tr style=\"text-align: right;\">\n",
       "      <th></th>\n",
       "      <th>elevation</th>\n",
       "      <th>lon</th>\n",
       "      <th>lat</th>\n",
       "      <th>orbit</th>\n",
       "      <th>X</th>\n",
       "      <th>Y</th>\n",
       "      <th>Z</th>\n",
       "    </tr>\n",
       "    <tr>\n",
       "      <th>datetime</th>\n",
       "      <th></th>\n",
       "      <th></th>\n",
       "      <th></th>\n",
       "      <th></th>\n",
       "      <th></th>\n",
       "      <th></th>\n",
       "      <th></th>\n",
       "    </tr>\n",
       "  </thead>\n",
       "  <tbody>\n",
       "    <tr>\n",
       "      <th>2018-08-01 00:00:00</th>\n",
       "      <td>499.230718</td>\n",
       "      <td>-31.446707</td>\n",
       "      <td>64.790392</td>\n",
       "      <td>0</td>\n",
       "      <td>413.215323</td>\n",
       "      <td>-2909.273962</td>\n",
       "      <td>6198.663736</td>\n",
       "    </tr>\n",
       "    <tr>\n",
       "      <th>2018-08-01 00:01:00</th>\n",
       "      <td>499.578778</td>\n",
       "      <td>-34.793866</td>\n",
       "      <td>68.392579</td>\n",
       "      <td>0</td>\n",
       "      <td>222.727486</td>\n",
       "      <td>-2530.886132</td>\n",
       "      <td>6371.367487</td>\n",
       "    </tr>\n",
       "    <tr>\n",
       "      <th>2018-08-01 00:02:00</th>\n",
       "      <td>499.878571</td>\n",
       "      <td>-39.293342</td>\n",
       "      <td>71.914512</td>\n",
       "      <td>0</td>\n",
       "      <td>31.254193</td>\n",
       "      <td>-2141.301213</td>\n",
       "      <td>6515.803948</td>\n",
       "    </tr>\n",
       "    <tr>\n",
       "      <th>2018-08-01 00:03:00</th>\n",
       "      <td>500.119329</td>\n",
       "      <td>-45.714047</td>\n",
       "      <td>75.299764</td>\n",
       "      <td>0</td>\n",
       "      <td>-160.357438</td>\n",
       "      <td>-1742.243180</td>\n",
       "      <td>6631.333473</td>\n",
       "    </tr>\n",
       "    <tr>\n",
       "      <th>2018-08-01 00:04:00</th>\n",
       "      <td>500.292291</td>\n",
       "      <td>-55.537856</td>\n",
       "      <td>78.429194</td>\n",
       "      <td>0</td>\n",
       "      <td>-351.259742</td>\n",
       "      <td>-1335.477706</td>\n",
       "      <td>6717.444445</td>\n",
       "    </tr>\n",
       "  </tbody>\n",
       "</table>\n",
       "</div>"
      ],
      "text/plain": [
       "                      elevation        lon        lat  orbit           X  \\\n",
       "datetime                                                                   \n",
       "2018-08-01 00:00:00  499.230718 -31.446707  64.790392      0  413.215323   \n",
       "2018-08-01 00:01:00  499.578778 -34.793866  68.392579      0  222.727486   \n",
       "2018-08-01 00:02:00  499.878571 -39.293342  71.914512      0   31.254193   \n",
       "2018-08-01 00:03:00  500.119329 -45.714047  75.299764      0 -160.357438   \n",
       "2018-08-01 00:04:00  500.292291 -55.537856  78.429194      0 -351.259742   \n",
       "\n",
       "                               Y            Z  \n",
       "datetime                                       \n",
       "2018-08-01 00:00:00 -2909.273962  6198.663736  \n",
       "2018-08-01 00:01:00 -2530.886132  6371.367487  \n",
       "2018-08-01 00:02:00 -2141.301213  6515.803948  \n",
       "2018-08-01 00:03:00 -1742.243180  6631.333473  \n",
       "2018-08-01 00:04:00 -1335.477706  6717.444445  "
      ]
     },
     "execution_count": 3,
     "metadata": {},
     "output_type": "execute_result"
    }
   ],
   "source": [
    "# generate ground path\n",
    "df = ground_path(satellite, '2018-08-01T00:00:00', '2018-08-02T00:00:00', '1min')\n",
    "df.head()"
   ]
  },
  {
   "cell_type": "markdown",
   "metadata": {},
   "source": [
    "### Create frames"
   ]
  },
  {
   "cell_type": "code",
   "execution_count": 4,
   "metadata": {},
   "outputs": [],
   "source": [
    "frames_directory = './frames'\n",
    "if not os.path.exists(frames_directory):\n",
    "    os.makedirs(frames_directory)"
   ]
  },
  {
   "cell_type": "code",
   "execution_count": 5,
   "metadata": {},
   "outputs": [
    {
     "name": "stderr",
     "output_type": "stream",
     "text": [
      "100%|██████████| 288/288 [01:33<00:00,  3.09it/s]\n"
     ]
    }
   ],
   "source": [
    "for i in tqdm(range(1, len(df), 5)):\n",
    "    df_sub = df.iloc[:i]\n",
    "    dt = df_sub.index[-1]\n",
    "    \n",
    "    title = \"Hodoyoshi-1\\n{:} ~ {:}\".format(df_sub.index.min(), df_sub.index.max())\n",
    "\n",
    "    fig = plt.figure(figsize=(20,10))\n",
    "    # map projection\n",
    "    projection0 = cartopy.crs.PlateCarree()\n",
    "    # object transformation\n",
    "    transform = cartopy.crs.PlateCarree()\n",
    "    ax0 = fig.add_subplot(1,1,1, projection=projection0)\n",
    "    plot_ground_path(ax0, df_sub, title, transform=transform, daynight=True, legend=True)\n",
    "    plt.savefig(frames_directory + '/hodoyoshi1_{:%Y%m%d%H%M%S}.jpg'.format(dt))\n",
    "    plt.cla()   # Clear axis\n",
    "    plt.clf()   # Clear figure\n",
    "    plt.close() # Close a figure window"
   ]
  },
  {
   "cell_type": "markdown",
   "metadata": {},
   "source": [
    "### Create video"
   ]
  },
  {
   "cell_type": "code",
   "execution_count": 6,
   "metadata": {},
   "outputs": [],
   "source": [
    "def make_video(in_dir, out_dir):\n",
    "    p = Popen(['./make_video.sh \"{:}\" \"{:}\"'.format(in_dir, out_dir)], stdin=PIPE, stdout=PIPE, stderr=PIPE, shell=True)\n",
    "    output, err = p.communicate()\n",
    "    print(p.returncode)\n",
    "    #print(output.decode('utf-8'), err.decode('utf-8'))\n",
    "    del p\n",
    "    return None"
   ]
  },
  {
   "cell_type": "code",
   "execution_count": 7,
   "metadata": {},
   "outputs": [],
   "source": [
    "videos_directory = './videos'\n",
    "if not os.path.exists(videos_directory):\n",
    "    os.makedirs(videos_directory)"
   ]
  },
  {
   "cell_type": "code",
   "execution_count": 8,
   "metadata": {},
   "outputs": [
    {
     "name": "stdout",
     "output_type": "stream",
     "text": [
      "0\n"
     ]
    }
   ],
   "source": [
    "make_video(frames_directory + '/hodoyoshi1_*.jpg', videos_directory + '/hodoyoshi1.mp4')"
   ]
  },
  {
   "cell_type": "code",
   "execution_count": 9,
   "metadata": {},
   "outputs": [
    {
     "data": {
      "text/html": [
       "<video controls>\n",
       "  <source src=\"./videos/hodoyoshi1.mp4\" type=\"video/mp4\">\n",
       "</video>"
      ],
      "text/plain": [
       "<IPython.core.display.HTML object>"
      ]
     },
     "metadata": {},
     "output_type": "display_data"
    }
   ],
   "source": [
    "%%HTML\n",
    "<video controls>\n",
    "  <source src=\"./videos/hodoyoshi1.mp4\" type=\"video/mp4\">\n",
    "</video>"
   ]
  },
  {
   "cell_type": "code",
   "execution_count": null,
   "metadata": {},
   "outputs": [],
   "source": []
  }
 ],
 "metadata": {
  "kernelspec": {
   "display_name": "Python 3",
   "language": "python",
   "name": "python3"
  },
  "language_info": {
   "codemirror_mode": {
    "name": "ipython",
    "version": 3
   },
   "file_extension": ".py",
   "mimetype": "text/x-python",
   "name": "python",
   "nbconvert_exporter": "python",
   "pygments_lexer": "ipython3",
   "version": "3.6.4"
  }
 },
 "nbformat": 4,
 "nbformat_minor": 2
}
