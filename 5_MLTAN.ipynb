{
 "cells": [
  {
   "cell_type": "markdown",
   "metadata": {},
   "source": [
    "# Calculating evolution of Mean Local Time at Ascending Node\n",
    "\n",
    "The Mean Local Time of the Ascending Node (MLTAN) of an orbit is defined as the angle between the orbit's ascending node and the mean Sun. The MLTAN is often presented in units of time with 12:00 PM - or noon - describing a Sun-synchronous orbit that places the Sun directly at zenith when the spacecraft is at the ascending node. \n",
    "\n",
    "**MLTAN and MLTDN of selected satellites:**\n",
    "\n",
    "| CATNR | Satellite   | MLTAN | MLTDN |\n",
    "| ----- | ----------- | ----- | ----- |\n",
    "| 39084 | LANDSAT 8   | 22:00 | 10:00 |\n",
    "| 25682 | LANDSAT 7   | 22:00 | 10:00 |\n",
    "| 39227 | KOMPSAT 5   | 06:00 | 18:00 |\n",
    "| 29268 | KOMPSAT 2   | 10:40 | 22:40 |\n",
    "| 35681 | DEIMOS 1    | 10:00 | 22:00 |\n",
    "| 37849 | SUOMI NPP   | 13:20 | 01:20 |\n",
    "| 40299 | HODOYOSHI 1 | 11:00 | 23:00 |\n",
    "| 42835 | WNI-SAT 1R  | 11:00 | 23:00 |"
   ]
  },
  {
   "cell_type": "code",
   "execution_count": 1,
   "metadata": {},
   "outputs": [],
   "source": [
    "import os\n",
    "from skyfield.api import load\n",
    "from ground_path import ground_path, ltan\n",
    "import matplotlib.pyplot as plt\n",
    "import numpy as np\n",
    "from datetime import timedelta\n",
    "import pandas as pd\n",
    "from tqdm import tqdm"
   ]
  },
  {
   "cell_type": "code",
   "execution_count": 2,
   "metadata": {},
   "outputs": [
    {
     "name": "stdout",
     "output_type": "stream",
     "text": [
      "EarthSatellite 'HODOYOSHI 1' number=40299 epoch=2018-10-24T12:03:08Z\n"
     ]
    }
   ],
   "source": [
    "satellite = load.tle('http://celestrak.com/satcat/tle.php?CATNR=40299', filename='tle_hodoyoshi_1.txt')['HODOYOSHI 1'] # MLTAN 11:00 MLTDN 23:00\n",
    "print(satellite)"
   ]
  },
  {
   "cell_type": "code",
   "execution_count": 3,
   "metadata": {},
   "outputs": [
    {
     "data": {
      "text/plain": [
       "(97.3704, 16.9494, 0.06650074387028093)"
      ]
     },
     "execution_count": 3,
     "metadata": {},
     "output_type": "execute_result"
    }
   ],
   "source": [
    "np.rad2deg(satellite.model.inclo), np.rad2deg(satellite.model.nodeo), satellite.model.no"
   ]
  },
  {
   "cell_type": "markdown",
   "metadata": {},
   "source": [
    "## Generate ground paths"
   ]
  },
  {
   "cell_type": "code",
   "execution_count": 4,
   "metadata": {},
   "outputs": [
    {
     "name": "stderr",
     "output_type": "stream",
     "text": [
      "100%|██████████| 8/8 [00:07<00:00,  1.11it/s]\n"
     ]
    }
   ],
   "source": [
    "freq = 30 # generate data point every 30 seconds\n",
    "dfs = {}\n",
    "dates = pd.date_range('2018-01-01', '2022-01-01', freq='6M')\n",
    "\n",
    "for date in tqdm(dates):\n",
    "    date_from = date\n",
    "    date_to = date_from + timedelta(days=1)\n",
    "    df = ground_path(satellite, date_from, date_to, freq)\n",
    "    dfs[date] = df"
   ]
  },
  {
   "cell_type": "code",
   "execution_count": 5,
   "metadata": {},
   "outputs": [
    {
     "data": {
      "text/html": [
       "<div>\n",
       "<style scoped>\n",
       "    .dataframe tbody tr th:only-of-type {\n",
       "        vertical-align: middle;\n",
       "    }\n",
       "\n",
       "    .dataframe tbody tr th {\n",
       "        vertical-align: top;\n",
       "    }\n",
       "\n",
       "    .dataframe thead th {\n",
       "        text-align: right;\n",
       "    }\n",
       "</style>\n",
       "<table border=\"1\" class=\"dataframe\">\n",
       "  <thead>\n",
       "    <tr style=\"text-align: right;\">\n",
       "      <th></th>\n",
       "      <th>X</th>\n",
       "      <th>Y</th>\n",
       "      <th>Z</th>\n",
       "      <th>lat</th>\n",
       "      <th>lon</th>\n",
       "      <th>elevation</th>\n",
       "      <th>ascending</th>\n",
       "      <th>orbit</th>\n",
       "    </tr>\n",
       "    <tr>\n",
       "      <th>datetime</th>\n",
       "      <th></th>\n",
       "      <th></th>\n",
       "      <th></th>\n",
       "      <th></th>\n",
       "      <th></th>\n",
       "      <th></th>\n",
       "      <th></th>\n",
       "      <th></th>\n",
       "    </tr>\n",
       "  </thead>\n",
       "  <tbody>\n",
       "    <tr>\n",
       "      <th>2018-01-31 00:00:00+00:00</th>\n",
       "      <td>2079.269786</td>\n",
       "      <td>-2562.718384</td>\n",
       "      <td>6028.950000</td>\n",
       "      <td>61.518285</td>\n",
       "      <td>178.977545</td>\n",
       "      <td>511.427801</td>\n",
       "      <td>True</td>\n",
       "      <td>0</td>\n",
       "    </tr>\n",
       "    <tr>\n",
       "      <th>2018-01-31 00:00:30+00:00</th>\n",
       "      <td>2151.799061</td>\n",
       "      <td>-2750.132204</td>\n",
       "      <td>5920.507037</td>\n",
       "      <td>59.686195</td>\n",
       "      <td>177.846920</td>\n",
       "      <td>511.331196</td>\n",
       "      <td>True</td>\n",
       "      <td>0</td>\n",
       "    </tr>\n",
       "    <tr>\n",
       "      <th>2018-01-31 00:01:00+00:00</th>\n",
       "      <td>2221.960487</td>\n",
       "      <td>-2934.519812</td>\n",
       "      <td>5805.530946</td>\n",
       "      <td>57.846765</td>\n",
       "      <td>176.820593</td>\n",
       "      <td>511.217444</td>\n",
       "      <td>True</td>\n",
       "      <td>0</td>\n",
       "    </tr>\n",
       "    <tr>\n",
       "      <th>2018-01-31 00:01:30+00:00</th>\n",
       "      <td>2289.676901</td>\n",
       "      <td>-3115.678362</td>\n",
       "      <td>5684.148704</td>\n",
       "      <td>56.001094</td>\n",
       "      <td>175.881817</td>\n",
       "      <td>511.088379</td>\n",
       "      <td>True</td>\n",
       "      <td>0</td>\n",
       "    </tr>\n",
       "    <tr>\n",
       "      <th>2018-01-31 00:02:00+00:00</th>\n",
       "      <td>2354.873820</td>\n",
       "      <td>-3293.408553</td>\n",
       "      <td>5556.494332</td>\n",
       "      <td>54.150059</td>\n",
       "      <td>175.017156</td>\n",
       "      <td>510.945907</td>\n",
       "      <td>True</td>\n",
       "      <td>0</td>\n",
       "    </tr>\n",
       "  </tbody>\n",
       "</table>\n",
       "</div>"
      ],
      "text/plain": [
       "                                     X            Y            Z        lat  \\\n",
       "datetime                                                                      \n",
       "2018-01-31 00:00:00+00:00  2079.269786 -2562.718384  6028.950000  61.518285   \n",
       "2018-01-31 00:00:30+00:00  2151.799061 -2750.132204  5920.507037  59.686195   \n",
       "2018-01-31 00:01:00+00:00  2221.960487 -2934.519812  5805.530946  57.846765   \n",
       "2018-01-31 00:01:30+00:00  2289.676901 -3115.678362  5684.148704  56.001094   \n",
       "2018-01-31 00:02:00+00:00  2354.873820 -3293.408553  5556.494332  54.150059   \n",
       "\n",
       "                                  lon   elevation  ascending  orbit  \n",
       "datetime                                                             \n",
       "2018-01-31 00:00:00+00:00  178.977545  511.427801       True      0  \n",
       "2018-01-31 00:00:30+00:00  177.846920  511.331196       True      0  \n",
       "2018-01-31 00:01:00+00:00  176.820593  511.217444       True      0  \n",
       "2018-01-31 00:01:30+00:00  175.881817  511.088379       True      0  \n",
       "2018-01-31 00:02:00+00:00  175.017156  510.945907       True      0  "
      ]
     },
     "execution_count": 5,
     "metadata": {},
     "output_type": "execute_result"
    }
   ],
   "source": [
    "dfs[dates[0]].head()"
   ]
  },
  {
   "cell_type": "code",
   "execution_count": 6,
   "metadata": {},
   "outputs": [],
   "source": [
    "columns = ['count', 'mean', 'std', 'min', '25%', '50%', '75%', 'max']\n",
    "df_ltan_stats = pd.DataFrame([], columns=columns, index=dates)\n",
    "\n",
    "for date in dates:\n",
    "    df = dfs[date]\n",
    "    df_ltan = ltan(df)\n",
    "    stats = (df_ltan['local_time'].dt.total_seconds() / 3600).describe()\n",
    "    df_ltan_stats.loc[date, columns] = stats"
   ]
  },
  {
   "cell_type": "code",
   "execution_count": 7,
   "metadata": {},
   "outputs": [
    {
     "data": {
      "text/html": [
       "<div>\n",
       "<style scoped>\n",
       "    .dataframe tbody tr th:only-of-type {\n",
       "        vertical-align: middle;\n",
       "    }\n",
       "\n",
       "    .dataframe tbody tr th {\n",
       "        vertical-align: top;\n",
       "    }\n",
       "\n",
       "    .dataframe thead th {\n",
       "        text-align: right;\n",
       "    }\n",
       "</style>\n",
       "<table border=\"1\" class=\"dataframe\">\n",
       "  <thead>\n",
       "    <tr style=\"text-align: right;\">\n",
       "      <th></th>\n",
       "      <th>count</th>\n",
       "      <th>mean</th>\n",
       "      <th>std</th>\n",
       "      <th>min</th>\n",
       "      <th>25%</th>\n",
       "      <th>50%</th>\n",
       "      <th>75%</th>\n",
       "      <th>max</th>\n",
       "    </tr>\n",
       "  </thead>\n",
       "  <tbody>\n",
       "    <tr>\n",
       "      <th>2018-01-31</th>\n",
       "      <td>15</td>\n",
       "      <td>23.0078</td>\n",
       "      <td>0.00485587</td>\n",
       "      <td>23.0014</td>\n",
       "      <td>23.0035</td>\n",
       "      <td>23.0096</td>\n",
       "      <td>23.0117</td>\n",
       "      <td>23.0138</td>\n",
       "    </tr>\n",
       "    <tr>\n",
       "      <th>2018-07-31</th>\n",
       "      <td>16</td>\n",
       "      <td>22.9554</td>\n",
       "      <td>0.00501211</td>\n",
       "      <td>22.9479</td>\n",
       "      <td>22.9511</td>\n",
       "      <td>22.9561</td>\n",
       "      <td>22.9593</td>\n",
       "      <td>22.9625</td>\n",
       "    </tr>\n",
       "    <tr>\n",
       "      <th>2019-01-31</th>\n",
       "      <td>15</td>\n",
       "      <td>22.9058</td>\n",
       "      <td>0.00476059</td>\n",
       "      <td>22.8991</td>\n",
       "      <td>22.9024</td>\n",
       "      <td>22.9057</td>\n",
       "      <td>22.909</td>\n",
       "      <td>22.9125</td>\n",
       "    </tr>\n",
       "    <tr>\n",
       "      <th>2019-07-31</th>\n",
       "      <td>15</td>\n",
       "      <td>22.8607</td>\n",
       "      <td>0.00445355</td>\n",
       "      <td>22.8534</td>\n",
       "      <td>22.8576</td>\n",
       "      <td>22.8613</td>\n",
       "      <td>22.8643</td>\n",
       "      <td>22.8674</td>\n",
       "    </tr>\n",
       "    <tr>\n",
       "      <th>2020-01-31</th>\n",
       "      <td>15</td>\n",
       "      <td>22.8175</td>\n",
       "      <td>0.00476865</td>\n",
       "      <td>22.8094</td>\n",
       "      <td>22.814</td>\n",
       "      <td>22.8184</td>\n",
       "      <td>22.8209</td>\n",
       "      <td>22.8255</td>\n",
       "    </tr>\n",
       "  </tbody>\n",
       "</table>\n",
       "</div>"
      ],
      "text/plain": [
       "           count     mean         std      min      25%      50%      75%  \\\n",
       "2018-01-31    15  23.0078  0.00485587  23.0014  23.0035  23.0096  23.0117   \n",
       "2018-07-31    16  22.9554  0.00501211  22.9479  22.9511  22.9561  22.9593   \n",
       "2019-01-31    15  22.9058  0.00476059  22.8991  22.9024  22.9057   22.909   \n",
       "2019-07-31    15  22.8607  0.00445355  22.8534  22.8576  22.8613  22.8643   \n",
       "2020-01-31    15  22.8175  0.00476865  22.8094   22.814  22.8184  22.8209   \n",
       "\n",
       "                max  \n",
       "2018-01-31  23.0138  \n",
       "2018-07-31  22.9625  \n",
       "2019-01-31  22.9125  \n",
       "2019-07-31  22.8674  \n",
       "2020-01-31  22.8255  "
      ]
     },
     "execution_count": 7,
     "metadata": {},
     "output_type": "execute_result"
    }
   ],
   "source": [
    "df_ltan_stats.head()"
   ]
  },
  {
   "cell_type": "code",
   "execution_count": 8,
   "metadata": {},
   "outputs": [
    {
     "data": {
      "text/plain": [
       "datetime.timedelta(0, 3601)"
      ]
     },
     "execution_count": 8,
     "metadata": {},
     "output_type": "execute_result"
    }
   ],
   "source": [
    "timedelta(hours=1, microseconds=1000000)"
   ]
  },
  {
   "cell_type": "code",
   "execution_count": 9,
   "metadata": {},
   "outputs": [
    {
     "data": {
      "image/png": "[encoded data removed]",
      "text/plain": [
       "<Figure size 1080x432 with 1 Axes>"
      ]
     },
     "metadata": {},
     "output_type": "display_data"
    }
   ],
   "source": [
    "import matplotlib.ticker as tick\n",
    "\n",
    "fig, ax = plt.subplots(1, figsize=(15,6))\n",
    "ax.plot(df_ltan_stats['mean'], 'C1')\n",
    "\n",
    "ax.set_title(\"MLTAN - {}\\n {:%Y-%m-%d} ~ {:%Y-%m-%d}\".format(satellite.name, df_ltan_stats.index[0], df_ltan_stats.index[-1]))\n",
    "frm = tick.FuncFormatter(lambda x, y: '{:02d}:{:02d}'.format(int(np.floor(x)), int((x % 1) * 60)))\n",
    "ax.yaxis.set_major_formatter(frm)\n",
    "\n",
    "plt.grid();\n",
    "plt.show();"
   ]
  },
  {
   "cell_type": "markdown",
   "metadata": {},
   "source": [
    "## Sources\n",
    "\n",
    "- http://www.celestrak.com/NORAD/elements/\n",
    "- https://ntrs.nasa.gov/archive/nasa/casi.ntrs.nasa.gov/20150010230.pdf\n",
    "- http://cires1.colorado.edu/events/lidarworkshop/LWG/Jun09/Papers.jun09/Kavaya2.jun09.pdf\n",
    "- https://ntrs.nasa.gov/archive/nasa/casi.ntrs.nasa.gov/20080012667.pdf\n",
    "- http://rhodesmill.org/skyfield/positions.html#barycentric-position\n",
    "- http://issfd.org/2015/files/downloads/papers/107_Mazzoleni.pdf\n",
    "- https://ntrs.nasa.gov/archive/nasa/casi.ntrs.nasa.gov/20080012667.pdf\n",
    "- https://arc.aiaa.org/doi/abs/10.2514/6.2015-4488\n",
    "- https://space.stackexchange.com/questions/22125/how-local-time-of-a-sun-synchronous-orbit-is-related-to-right-ascension-of-ascen\n",
    "- https://www.yumpu.com/en/document/view/36384921/mean-local-time-of-the-ascending-node-orbital-and-celestial-\n",
    "- MLTAN of existing satellites\n",
    "    - https://earthi.space/wp-content/uploads/2018/03/Earth-i-Tech-Spec-for-KOMPSAT.pdf\n",
    "    - https://satellitesafety.gsfc.nasa.gov/missions.html\n",
    "    - http://www.remss.com/support/crossing-times/"
   ]
  }
 ],
 "metadata": {
  "kernelspec": {
   "display_name": "Python 3",
   "language": "python",
   "name": "python3"
  },
  "language_info": {
   "codemirror_mode": {
    "name": "ipython",
    "version": 3
   },
   "file_extension": ".py",
   "mimetype": "text/x-python",
   "name": "python",
   "nbconvert_exporter": "python",
   "pygments_lexer": "ipython3",
   "version": "3.6.4"
  }
 },
 "nbformat": 4,
 "nbformat_minor": 2
}
