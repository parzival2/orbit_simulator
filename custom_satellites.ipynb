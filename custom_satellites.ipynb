{
 "cells": [
  {
   "cell_type": "markdown",
   "metadata": {},
   "source": [
    "# Custom satellites"
   ]
  },
  {
   "cell_type": "markdown",
   "metadata": {},
   "source": [
    "In this example we'll change two most important parameters: inclination & altitude (by modifying mean motion).\n",
    "\n",
    "![orbital elements](https://upload.wikimedia.org/wikipedia/commons/thumb/e/eb/Orbit1.svg/266px-Orbit1.svg.png)\n",
    "\n",
    "Full documentation of satellite model parameters can be found in [Skyfield's EarthSatellite documentation](http://rhodesmill.org/skyfield/api-satellites.html#skyfield.sgp4lib.EarthSatellite)"
   ]
  },
  {
   "cell_type": "code",
   "execution_count": 1,
   "metadata": {},
   "outputs": [],
   "source": [
    "import os\n",
    "from skyfield.api import load\n",
    "import numpy as np\n",
    "from skyfield.api import load, EarthSatellite"
   ]
  },
  {
   "cell_type": "markdown",
   "metadata": {},
   "source": [
    "## Load existing satellite from NORAD database"
   ]
  },
  {
   "cell_type": "code",
   "execution_count": 2,
   "metadata": {},
   "outputs": [
    {
     "name": "stderr",
     "output_type": "stream",
     "text": [
      "[#################################] 100% tle.txt\n"
     ]
    },
    {
     "name": "stdout",
     "output_type": "stream",
     "text": [
      "EarthSatellite 'HODOYOSHI-1' number=40299 epoch=2018-08-08T19:50:07Z\n"
     ]
    }
   ],
   "source": [
    "resource_url = 'http://celestrak.com/NORAD/elements/resource.txt'\n",
    "\n",
    "fname = 'tle.txt'\n",
    "if os.path.isfile(fname):\n",
    "    os.remove(fname)\n",
    "\n",
    "satellites = load.tle(resource_url, filename=fname, reload=True)\n",
    "satellite = satellites['HODOYOSHI-1']\n",
    "print(satellite)"
   ]
  },
  {
   "cell_type": "code",
   "execution_count": 3,
   "metadata": {},
   "outputs": [
    {
     "name": "stdout",
     "output_type": "stream",
     "text": [
      "A.D. 2018-Aug-08 19:50:07.0719 UT\n"
     ]
    }
   ],
   "source": [
    "print(satellite.epoch.utc_jpl())"
   ]
  },
  {
   "cell_type": "markdown",
   "metadata": {},
   "source": [
    "## Modify parameters"
   ]
  },
  {
   "cell_type": "code",
   "execution_count": 4,
   "metadata": {},
   "outputs": [
    {
     "name": "stdout",
     "output_type": "stream",
     "text": [
      "Inclination: 82.6238\n",
      "Mean motion: 0.06649628005841829\n"
     ]
    }
   ],
   "source": [
    "print('Inclination: {:}'.format(180 - np.rad2deg(satellite.model.inclo)))\n",
    "print('Mean motion: {:}'.format(satellite.model.no))"
   ]
  },
  {
   "cell_type": "markdown",
   "metadata": {},
   "source": [
    "### Change inclination"
   ]
  },
  {
   "cell_type": "code",
   "execution_count": 5,
   "metadata": {},
   "outputs": [],
   "source": [
    "# change inclination to 15 degrees\n",
    "deg = 15\n",
    "satellite.model.inclo = np.deg2rad(180 - deg)"
   ]
  },
  {
   "cell_type": "markdown",
   "metadata": {},
   "source": [
    "### Change altitude\n",
    "\n",
    "Altitude is very strongly related to mean motion, which is one of the orbital elements.\n",
    "\n",
    "To change it we need to know what is orbital period of a satellite.\n",
    "\n",
    "$\\large n={\\frac {2\\pi }{P}}$\n",
    "\n",
    "$n$ - mean motion in radians per second\n",
    "\n",
    "$P = 2\\pi \\sqrt{\\frac{a^{3}}{\\mu}}$\n",
    "\n",
    "$a$ - major semi axis\n",
    "\n",
    "$\\mu = GM_{body}$ - Standard gravitational parameter\n",
    "\n",
    "$G$ - Gravitational constant ($G \\approx 6.674*10^{-11} N \\cdot kg^{-2} \\cdot m^{2}$)\n",
    "\n",
    "$M_{body}$ - Body mass in kilograms\n",
    "\n"
   ]
  },
  {
   "cell_type": "code",
   "execution_count": 6,
   "metadata": {},
   "outputs": [],
   "source": [
    "G_CONST = 6.674 * 10**-11\n",
    "EARTH_MASS = 5.97237 * 10**24\n",
    "EARTH_RADIUS = 6.371 * 10**6\n",
    "MU_EARTH = G_CONST * EARTH_MASS\n",
    "\n",
    "def orbital_period(mu_body, a):\n",
    "    return 2 * np.pi * np.sqrt(np.power(a, 3) / mu_body)\n",
    "\n",
    "# change altitude to 400 km (above Earth's surface)\n",
    "a = 400\n",
    "P = orbital_period(MU_EARTH, EARTH_RADIUS + (a * 10**3))\n",
    "no = (np.pi * 2) / P # rad / s\n",
    "\n",
    "satellite.model.no = no * 60 # rad / min"
   ]
  },
  {
   "cell_type": "code",
   "execution_count": 7,
   "metadata": {},
   "outputs": [
    {
     "name": "stdout",
     "output_type": "stream",
     "text": [
      "Orbital period: 1h 32m\n",
      "Revolutions per day: 15.6\n"
     ]
    }
   ],
   "source": [
    "print('Orbital period: {:0.0f}h {:0.0f}m'.format(P // 3600, ((P % 3600) * 60) / 3600))\n",
    "print('Revolutions per day: {:0.1f}'.format((3600 * 24) / P))"
   ]
  },
  {
   "cell_type": "markdown",
   "metadata": {},
   "source": [
    "## Review parameters"
   ]
  },
  {
   "cell_type": "code",
   "execution_count": 8,
   "metadata": {},
   "outputs": [
    {
     "name": "stdout",
     "output_type": "stream",
     "text": [
      "Inclination: 15.0\n",
      "Mean motion: 0.06798897338362271\n"
     ]
    }
   ],
   "source": [
    "print('Inclination: {:}'.format(180 - np.rad2deg(satellite.model.inclo)))\n",
    "print('Mean motion: {:}'.format(satellite.model.no))"
   ]
  },
  {
   "cell_type": "markdown",
   "metadata": {},
   "source": [
    "## Sources\n",
    "\n",
    "- http://rhodesmill.org/skyfield/api-satellites.html#skyfield.sgp4lib.EarthSatellite\n",
    "- https://en.wikipedia.org/wiki/Two-line_element_set\n",
    "- https://en.wikipedia.org/wiki/Orbital_speed\n",
    "- https://en.wikipedia.org/wiki/Mean_motion"
   ]
  }
 ],
 "metadata": {
  "kernelspec": {
   "display_name": "Python 3",
   "language": "python",
   "name": "python3"
  },
  "language_info": {
   "codemirror_mode": {
    "name": "ipython",
    "version": 3
   },
   "file_extension": ".py",
   "mimetype": "text/x-python",
   "name": "python",
   "nbconvert_exporter": "python",
   "pygments_lexer": "ipython3",
   "version": "3.6.4"
  }
 },
 "nbformat": 4,
 "nbformat_minor": 2
}
