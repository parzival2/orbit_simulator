{
 "cells": [
  {
   "cell_type": "markdown",
   "metadata": {},
   "source": [
    "# Custom satellites"
   ]
  },
  {
   "cell_type": "code",
   "execution_count": 1,
   "metadata": {},
   "outputs": [],
   "source": [
    "import os\n",
    "from skyfield.api import load\n",
    "import numpy as np\n",
    "from skyfield.api import load, EarthSatellite"
   ]
  },
  {
   "cell_type": "markdown",
   "metadata": {},
   "source": [
    "## Modify parameters of an existing satellite"
   ]
  },
  {
   "cell_type": "code",
   "execution_count": 2,
   "metadata": {},
   "outputs": [
    {
     "name": "stderr",
     "output_type": "stream",
     "text": [
      "[#################################] 100% tle.txt\n"
     ]
    },
    {
     "name": "stdout",
     "output_type": "stream",
     "text": [
      "EarthSatellite 'HODOYOSHI-1' number=40299 epoch=2018-08-06T18:53:38Z\n"
     ]
    }
   ],
   "source": [
    "resource_url = 'http://celestrak.com/NORAD/elements/resource.txt'\n",
    "\n",
    "fname = 'tle.txt'\n",
    "if os.path.isfile(fname):\n",
    "    os.remove(fname)\n",
    "\n",
    "satellites = load.tle(resource_url, filename=fname, reload=True)\n",
    "satellite = satellites['HODOYOSHI-1']\n",
    "print(satellite)"
   ]
  },
  {
   "cell_type": "code",
   "execution_count": 3,
   "metadata": {},
   "outputs": [
    {
     "name": "stdout",
     "output_type": "stream",
     "text": [
      "A.D. 2018-Aug-06 18:53:37.7209 UT\n"
     ]
    }
   ],
   "source": [
    "print(satellite.epoch.utc_jpl())"
   ]
  },
  {
   "cell_type": "markdown",
   "metadata": {},
   "source": [
    "### Modify parameters"
   ]
  },
  {
   "cell_type": "code",
   "execution_count": 4,
   "metadata": {},
   "outputs": [
    {
     "name": "stdout",
     "output_type": "stream",
     "text": [
      "Inclination: 82.6238\n"
     ]
    }
   ],
   "source": [
    "print('Inclination: {:}'.format(180 - np.rad2deg(satellite.model.inclo)))"
   ]
  },
  {
   "cell_type": "code",
   "execution_count": 5,
   "metadata": {},
   "outputs": [],
   "source": [
    "# change inclination to 15 degrees\n",
    "deg = 15\n",
    "satellite.model.inclo = np.deg2rad(180 - deg)"
   ]
  },
  {
   "cell_type": "code",
   "execution_count": 6,
   "metadata": {},
   "outputs": [
    {
     "name": "stdout",
     "output_type": "stream",
     "text": [
      "Inclination: 15.0\n"
     ]
    }
   ],
   "source": [
    "print('Inclination: {:}'.format(180 - np.rad2deg(satellite.model.inclo)))"
   ]
  },
  {
   "cell_type": "markdown",
   "metadata": {},
   "source": [
    "## Create satellite from custom TLE elements"
   ]
  },
  {
   "cell_type": "code",
   "execution_count": 7,
   "metadata": {},
   "outputs": [],
   "source": [
    "text = \"\"\"\n",
    "GOCE\n",
    "1 34602U 09013A   13314.96046236  .14220718  20669-5  50412-4 0   930\n",
    "2 34602 096.5717 344.5256 0009826 296.2811 064.0942 16.58673376272979\n",
    "\"\"\"\n",
    "lines = text.strip().splitlines()\n",
    "\n",
    "custom_satellite = EarthSatellite(lines[1], lines[2], lines[0])"
   ]
  },
  {
   "cell_type": "markdown",
   "metadata": {},
   "source": [
    "## Sources\n",
    "\n",
    "- http://rhodesmill.org/skyfield/api-satellites.html#skyfield.sgp4lib.EarthSatellite\n",
    "- https://en.wikipedia.org/wiki/Two-line_element_set"
   ]
  }
 ],
 "metadata": {
  "kernelspec": {
   "display_name": "Python 3",
   "language": "python",
   "name": "python3"
  },
  "language_info": {
   "codemirror_mode": {
    "name": "ipython",
    "version": 3
   },
   "file_extension": ".py",
   "mimetype": "text/x-python",
   "name": "python",
   "nbconvert_exporter": "python",
   "pygments_lexer": "ipython3",
   "version": "3.6.4"
  }
 },
 "nbformat": 4,
 "nbformat_minor": 2
}
