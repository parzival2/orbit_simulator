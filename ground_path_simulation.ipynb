{
 "cells": [
  {
   "cell_type": "markdown",
   "metadata": {},
   "source": [
    "# Ground path simulation"
   ]
  },
  {
   "cell_type": "code",
   "execution_count": 1,
   "metadata": {},
   "outputs": [],
   "source": [
    "import os\n",
    "from skyfield.api import load\n",
    "from ground_path import ground_path\n",
    "import numpy as np"
   ]
  },
  {
   "cell_type": "markdown",
   "metadata": {},
   "source": [
    "### Load existing satellite from NORAD database"
   ]
  },
  {
   "cell_type": "code",
   "execution_count": 2,
   "metadata": {},
   "outputs": [],
   "source": [
    "resource_url = 'http://celestrak.com/NORAD/elements/resource.txt'"
   ]
  },
  {
   "cell_type": "code",
   "execution_count": 3,
   "metadata": {},
   "outputs": [
    {
     "name": "stderr",
     "output_type": "stream",
     "text": [
      "[#################################] 100% tle.txt\n"
     ]
    }
   ],
   "source": [
    "fname = 'tle.txt'\n",
    "if os.path.isfile(fname):\n",
    "    os.remove(fname)\n",
    "\n",
    "satellites = load.tle(resource_url, filename=fname, reload=True)"
   ]
  },
  {
   "cell_type": "code",
   "execution_count": 4,
   "metadata": {},
   "outputs": [
    {
     "name": "stdout",
     "output_type": "stream",
     "text": [
      "EarthSatellite 'HODOYOSHI-1' number=40299 epoch=2018-08-06T18:53:38Z\n"
     ]
    }
   ],
   "source": [
    "satellite = satellites['HODOYOSHI-1']\n",
    "print(satellite)"
   ]
  },
  {
   "cell_type": "markdown",
   "metadata": {},
   "source": [
    "### Calculate ground path"
   ]
  },
  {
   "cell_type": "code",
   "execution_count": 5,
   "metadata": {},
   "outputs": [
    {
     "name": "stderr",
     "output_type": "stream",
     "text": [
      "100%|██████████| 2881/2881 [00:04<00:00, 632.94it/s]\n"
     ]
    },
    {
     "data": {
      "text/html": [
       "<div>\n",
       "<style scoped>\n",
       "    .dataframe tbody tr th:only-of-type {\n",
       "        vertical-align: middle;\n",
       "    }\n",
       "\n",
       "    .dataframe tbody tr th {\n",
       "        vertical-align: top;\n",
       "    }\n",
       "\n",
       "    .dataframe thead th {\n",
       "        text-align: right;\n",
       "    }\n",
       "</style>\n",
       "<table border=\"1\" class=\"dataframe\">\n",
       "  <thead>\n",
       "    <tr style=\"text-align: right;\">\n",
       "      <th></th>\n",
       "      <th>elevation</th>\n",
       "      <th>lon</th>\n",
       "      <th>lat</th>\n",
       "      <th>orbit</th>\n",
       "      <th>X</th>\n",
       "      <th>Y</th>\n",
       "      <th>Z</th>\n",
       "    </tr>\n",
       "    <tr>\n",
       "      <th>datetime</th>\n",
       "      <th></th>\n",
       "      <th></th>\n",
       "      <th></th>\n",
       "      <th></th>\n",
       "      <th></th>\n",
       "      <th></th>\n",
       "      <th></th>\n",
       "    </tr>\n",
       "  </thead>\n",
       "  <tbody>\n",
       "    <tr>\n",
       "      <th>2018-08-01 00:00:00</th>\n",
       "      <td>499.230718</td>\n",
       "      <td>-31.446707</td>\n",
       "      <td>64.790392</td>\n",
       "      <td>0</td>\n",
       "      <td>413.215323</td>\n",
       "      <td>-2909.273962</td>\n",
       "      <td>6198.663736</td>\n",
       "    </tr>\n",
       "    <tr>\n",
       "      <th>2018-08-01 00:00:30</th>\n",
       "      <td>499.410035</td>\n",
       "      <td>-33.007950</td>\n",
       "      <td>66.599279</td>\n",
       "      <td>0</td>\n",
       "      <td>318.147408</td>\n",
       "      <td>-2721.585593</td>\n",
       "      <td>6288.504115</td>\n",
       "    </tr>\n",
       "    <tr>\n",
       "      <th>2018-08-01 00:01:00</th>\n",
       "      <td>499.578778</td>\n",
       "      <td>-34.793866</td>\n",
       "      <td>68.392579</td>\n",
       "      <td>0</td>\n",
       "      <td>222.727486</td>\n",
       "      <td>-2530.886132</td>\n",
       "      <td>6371.367487</td>\n",
       "    </tr>\n",
       "    <tr>\n",
       "      <th>2018-08-01 00:01:30</th>\n",
       "      <td>499.735426</td>\n",
       "      <td>-36.862743</td>\n",
       "      <td>70.166206</td>\n",
       "      <td>0</td>\n",
       "      <td>127.061133</td>\n",
       "      <td>-2337.386627</td>\n",
       "      <td>6447.162079</td>\n",
       "    </tr>\n",
       "    <tr>\n",
       "      <th>2018-08-01 00:02:00</th>\n",
       "      <td>499.878571</td>\n",
       "      <td>-39.293342</td>\n",
       "      <td>71.914512</td>\n",
       "      <td>0</td>\n",
       "      <td>31.254193</td>\n",
       "      <td>-2141.301213</td>\n",
       "      <td>6515.803948</td>\n",
       "    </tr>\n",
       "  </tbody>\n",
       "</table>\n",
       "</div>"
      ],
      "text/plain": [
       "                      elevation        lon        lat  orbit           X  \\\n",
       "datetime                                                                   \n",
       "2018-08-01 00:00:00  499.230718 -31.446707  64.790392      0  413.215323   \n",
       "2018-08-01 00:00:30  499.410035 -33.007950  66.599279      0  318.147408   \n",
       "2018-08-01 00:01:00  499.578778 -34.793866  68.392579      0  222.727486   \n",
       "2018-08-01 00:01:30  499.735426 -36.862743  70.166206      0  127.061133   \n",
       "2018-08-01 00:02:00  499.878571 -39.293342  71.914512      0   31.254193   \n",
       "\n",
       "                               Y            Z  \n",
       "datetime                                       \n",
       "2018-08-01 00:00:00 -2909.273962  6198.663736  \n",
       "2018-08-01 00:00:30 -2721.585593  6288.504115  \n",
       "2018-08-01 00:01:00 -2530.886132  6371.367487  \n",
       "2018-08-01 00:01:30 -2337.386627  6447.162079  \n",
       "2018-08-01 00:02:00 -2141.301213  6515.803948  "
      ]
     },
     "execution_count": 5,
     "metadata": {},
     "output_type": "execute_result"
    }
   ],
   "source": [
    "df = ground_path(satellite, '2018-08-01T00:00:00', '2018-08-02T00:00:00', '30s')\n",
    "df.head()"
   ]
  },
  {
   "cell_type": "code",
   "execution_count": 6,
   "metadata": {},
   "outputs": [],
   "source": [
    "# save as CSV file\n",
    "df.to_csv('ground_path_hodoyoshi.csv')"
   ]
  },
  {
   "cell_type": "markdown",
   "metadata": {},
   "source": [
    "## Statistics"
   ]
  },
  {
   "cell_type": "code",
   "execution_count": 7,
   "metadata": {},
   "outputs": [
    {
     "data": {
      "text/plain": [
       "657574.7391242208"
      ]
     },
     "execution_count": 7,
     "metadata": {},
     "output_type": "execute_result"
    }
   ],
   "source": [
    "# Total distance approximation\n",
    "pos = df[['X', 'Y', 'Z']]\n",
    "dist = np.linalg.norm((pos - pos.shift()).dropna(), axis=1)\n",
    "dist.sum()"
   ]
  },
  {
   "cell_type": "code",
   "execution_count": 8,
   "metadata": {},
   "outputs": [
    {
     "data": {
      "text/html": [
       "<div>\n",
       "<style scoped>\n",
       "    .dataframe tbody tr th:only-of-type {\n",
       "        vertical-align: middle;\n",
       "    }\n",
       "\n",
       "    .dataframe tbody tr th {\n",
       "        vertical-align: top;\n",
       "    }\n",
       "\n",
       "    .dataframe thead th {\n",
       "        text-align: right;\n",
       "    }\n",
       "</style>\n",
       "<table border=\"1\" class=\"dataframe\">\n",
       "  <thead>\n",
       "    <tr style=\"text-align: right;\">\n",
       "      <th></th>\n",
       "      <th>elevation</th>\n",
       "      <th>lon</th>\n",
       "      <th>lat</th>\n",
       "    </tr>\n",
       "  </thead>\n",
       "  <tbody>\n",
       "    <tr>\n",
       "      <th>min</th>\n",
       "      <td>495.074071</td>\n",
       "      <td>-179.792468</td>\n",
       "      <td>-82.663796</td>\n",
       "    </tr>\n",
       "    <tr>\n",
       "      <th>max</th>\n",
       "      <td>535.412535</td>\n",
       "      <td>179.940694</td>\n",
       "      <td>82.663943</td>\n",
       "    </tr>\n",
       "  </tbody>\n",
       "</table>\n",
       "</div>"
      ],
      "text/plain": [
       "      elevation         lon        lat\n",
       "min  495.074071 -179.792468 -82.663796\n",
       "max  535.412535  179.940694  82.663943"
      ]
     },
     "execution_count": 8,
     "metadata": {},
     "output_type": "execute_result"
    }
   ],
   "source": [
    "df[['elevation', 'lon', 'lat']].agg(['min', 'max'])"
   ]
  },
  {
   "cell_type": "code",
   "execution_count": 9,
   "metadata": {},
   "outputs": [
    {
     "data": {
      "text/html": [
       "<div>\n",
       "<style scoped>\n",
       "    .dataframe tbody tr th:only-of-type {\n",
       "        vertical-align: middle;\n",
       "    }\n",
       "\n",
       "    .dataframe tbody tr th {\n",
       "        vertical-align: top;\n",
       "    }\n",
       "\n",
       "    .dataframe thead th {\n",
       "        text-align: right;\n",
       "    }\n",
       "</style>\n",
       "<table border=\"1\" class=\"dataframe\">\n",
       "  <thead>\n",
       "    <tr style=\"text-align: right;\">\n",
       "      <th></th>\n",
       "      <th>elevation</th>\n",
       "    </tr>\n",
       "  </thead>\n",
       "  <tbody>\n",
       "    <tr>\n",
       "      <th>count</th>\n",
       "      <td>2881.000000</td>\n",
       "    </tr>\n",
       "    <tr>\n",
       "      <th>mean</th>\n",
       "      <td>508.830494</td>\n",
       "    </tr>\n",
       "    <tr>\n",
       "      <th>std</th>\n",
       "      <td>13.887208</td>\n",
       "    </tr>\n",
       "    <tr>\n",
       "      <th>min</th>\n",
       "      <td>495.074071</td>\n",
       "    </tr>\n",
       "    <tr>\n",
       "      <th>25%</th>\n",
       "      <td>497.611162</td>\n",
       "    </tr>\n",
       "    <tr>\n",
       "      <th>50%</th>\n",
       "      <td>500.369331</td>\n",
       "    </tr>\n",
       "    <tr>\n",
       "      <th>75%</th>\n",
       "      <td>521.088948</td>\n",
       "    </tr>\n",
       "    <tr>\n",
       "      <th>max</th>\n",
       "      <td>535.412535</td>\n",
       "    </tr>\n",
       "  </tbody>\n",
       "</table>\n",
       "</div>"
      ],
      "text/plain": [
       "         elevation\n",
       "count  2881.000000\n",
       "mean    508.830494\n",
       "std      13.887208\n",
       "min     495.074071\n",
       "25%     497.611162\n",
       "50%     500.369331\n",
       "75%     521.088948\n",
       "max     535.412535"
      ]
     },
     "execution_count": 9,
     "metadata": {},
     "output_type": "execute_result"
    }
   ],
   "source": [
    "df[['elevation']].describe()"
   ]
  }
 ],
 "metadata": {
  "kernelspec": {
   "display_name": "Python 3",
   "language": "python",
   "name": "python3"
  },
  "language_info": {
   "codemirror_mode": {
    "name": "ipython",
    "version": 3
   },
   "file_extension": ".py",
   "mimetype": "text/x-python",
   "name": "python",
   "nbconvert_exporter": "python",
   "pygments_lexer": "ipython3",
   "version": "3.6.4"
  }
 },
 "nbformat": 4,
 "nbformat_minor": 2
}
