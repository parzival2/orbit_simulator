{
 "cells": [
  {
   "cell_type": "markdown",
   "metadata": {},
   "source": [
    "# Animation"
   ]
  },
  {
   "cell_type": "code",
   "execution_count": 1,
   "metadata": {},
   "outputs": [],
   "source": [
    "import os\n",
    "from skyfield.api import load\n",
    "from tqdm import tqdm\n",
    "from subprocess import Popen, PIPE\n",
    "import pandas as pd\n",
    "from plotting import plot_ground_path\n",
    "from ground_path import ground_path\n",
    "import matplotlib.pyplot as plt\n",
    "import cartopy\n",
    "from datetime import datetime"
   ]
  },
  {
   "cell_type": "markdown",
   "metadata": {},
   "source": [
    "### Load data"
   ]
  },
  {
   "cell_type": "code",
   "execution_count": 2,
   "metadata": {},
   "outputs": [
    {
     "name": "stdout",
     "output_type": "stream",
     "text": [
      "EarthSatellite 'HODOYOSHI 1' number=40299 epoch=2018-10-24T12:03:08Z\n"
     ]
    }
   ],
   "source": [
    "resource_url = 'http://celestrak.com/satcat/tle.php?CATNR=40299'\n",
    "\n",
    "fname = 'tle_hodoyoshi_1.txt'\n",
    "satellites = load.tle(resource_url, filename=fname, reload=False)\n",
    "\n",
    "satellite = satellites['HODOYOSHI 1']\n",
    "print(satellite)"
   ]
  },
  {
   "cell_type": "code",
   "execution_count": 3,
   "metadata": {},
   "outputs": [
    {
     "data": {
      "text/html": [
       "<div>\n",
       "<style scoped>\n",
       "    .dataframe tbody tr th:only-of-type {\n",
       "        vertical-align: middle;\n",
       "    }\n",
       "\n",
       "    .dataframe tbody tr th {\n",
       "        vertical-align: top;\n",
       "    }\n",
       "\n",
       "    .dataframe thead th {\n",
       "        text-align: right;\n",
       "    }\n",
       "</style>\n",
       "<table border=\"1\" class=\"dataframe\">\n",
       "  <thead>\n",
       "    <tr style=\"text-align: right;\">\n",
       "      <th></th>\n",
       "      <th>X</th>\n",
       "      <th>Y</th>\n",
       "      <th>Z</th>\n",
       "      <th>lat</th>\n",
       "      <th>lon</th>\n",
       "      <th>elevation</th>\n",
       "      <th>ascending</th>\n",
       "      <th>orbit</th>\n",
       "    </tr>\n",
       "    <tr>\n",
       "      <th>datetime</th>\n",
       "      <th></th>\n",
       "      <th></th>\n",
       "      <th></th>\n",
       "      <th></th>\n",
       "      <th></th>\n",
       "      <th></th>\n",
       "      <th></th>\n",
       "      <th></th>\n",
       "    </tr>\n",
       "  </thead>\n",
       "  <tbody>\n",
       "    <tr>\n",
       "      <th>2018-08-01 00:00:00+00:00</th>\n",
       "      <td>554.203355</td>\n",
       "      <td>-3178.014692</td>\n",
       "      <td>6054.771852</td>\n",
       "      <td>62.118186</td>\n",
       "      <td>-29.613950</td>\n",
       "      <td>499.094947</td>\n",
       "      <td>True</td>\n",
       "      <td>0</td>\n",
       "    </tr>\n",
       "    <tr>\n",
       "      <th>2018-08-01 00:01:00+00:00</th>\n",
       "      <td>364.781322</td>\n",
       "      <td>-2809.061221</td>\n",
       "      <td>6247.800731</td>\n",
       "      <td>65.759775</td>\n",
       "      <td>-32.392397</td>\n",
       "      <td>499.569012</td>\n",
       "      <td>True</td>\n",
       "      <td>0</td>\n",
       "    </tr>\n",
       "    <tr>\n",
       "      <th>2018-08-01 00:02:00+00:00</th>\n",
       "      <td>173.745475</td>\n",
       "      <td>-2427.680857</td>\n",
       "      <td>6413.112555</td>\n",
       "      <td>69.344170</td>\n",
       "      <td>-35.993558</td>\n",
       "      <td>500.002625</td>\n",
       "      <td>True</td>\n",
       "      <td>0</td>\n",
       "    </tr>\n",
       "    <tr>\n",
       "      <th>2018-08-01 00:03:00+00:00</th>\n",
       "      <td>-18.059004</td>\n",
       "      <td>-2035.561712</td>\n",
       "      <td>6549.976432</td>\n",
       "      <td>72.836863</td>\n",
       "      <td>-40.906509</td>\n",
       "      <td>500.383247</td>\n",
       "      <td>True</td>\n",
       "      <td>0</td>\n",
       "    </tr>\n",
       "    <tr>\n",
       "      <th>2018-08-01 00:04:00+00:00</th>\n",
       "      <td>-209.783681</td>\n",
       "      <td>-1634.439031</td>\n",
       "      <td>6657.787568</td>\n",
       "      <td>76.169689</td>\n",
       "      <td>-48.043976</td>\n",
       "      <td>500.700213</td>\n",
       "      <td>True</td>\n",
       "      <td>0</td>\n",
       "    </tr>\n",
       "  </tbody>\n",
       "</table>\n",
       "</div>"
      ],
      "text/plain": [
       "                                    X            Y            Z        lat  \\\n",
       "datetime                                                                     \n",
       "2018-08-01 00:00:00+00:00  554.203355 -3178.014692  6054.771852  62.118186   \n",
       "2018-08-01 00:01:00+00:00  364.781322 -2809.061221  6247.800731  65.759775   \n",
       "2018-08-01 00:02:00+00:00  173.745475 -2427.680857  6413.112555  69.344170   \n",
       "2018-08-01 00:03:00+00:00  -18.059004 -2035.561712  6549.976432  72.836863   \n",
       "2018-08-01 00:04:00+00:00 -209.783681 -1634.439031  6657.787568  76.169689   \n",
       "\n",
       "                                 lon   elevation  ascending  orbit  \n",
       "datetime                                                            \n",
       "2018-08-01 00:00:00+00:00 -29.613950  499.094947       True      0  \n",
       "2018-08-01 00:01:00+00:00 -32.392397  499.569012       True      0  \n",
       "2018-08-01 00:02:00+00:00 -35.993558  500.002625       True      0  \n",
       "2018-08-01 00:03:00+00:00 -40.906509  500.383247       True      0  \n",
       "2018-08-01 00:04:00+00:00 -48.043976  500.700213       True      0  "
      ]
     },
     "execution_count": 3,
     "metadata": {},
     "output_type": "execute_result"
    }
   ],
   "source": [
    "# generate ground path\n",
    "date_from = datetime(2018,8,1,0,0,0,0)\n",
    "date_to = datetime(2018,8,2,0,0,0,0)\n",
    "freq = 60 # generate data point every 60 seconds\n",
    "df = ground_path(satellite, date_from, date_to, freq)\n",
    "df.head()"
   ]
  },
  {
   "cell_type": "markdown",
   "metadata": {},
   "source": [
    "### Create frames"
   ]
  },
  {
   "cell_type": "code",
   "execution_count": 4,
   "metadata": {},
   "outputs": [],
   "source": [
    "frames_directory = './frames'\n",
    "if not os.path.exists(frames_directory):\n",
    "    os.makedirs(frames_directory)"
   ]
  },
  {
   "cell_type": "code",
   "execution_count": 5,
   "metadata": {},
   "outputs": [
    {
     "name": "stderr",
     "output_type": "stream",
     "text": [
      "100%|██████████| 288/288 [01:41<00:00,  2.83it/s]\n"
     ]
    }
   ],
   "source": [
    "for i in tqdm(range(1, len(df), 5)):\n",
    "    df_sub = df.iloc[:i]\n",
    "    dt = df_sub.index[-1]\n",
    "    \n",
    "    title = \"HODOYOSHI-1\\n{:} ~ {:}\".format(df_sub.index.min(), df_sub.index.max())\n",
    "\n",
    "    fig = plt.figure(figsize=(20,10))\n",
    "    # map projection\n",
    "    projection0 = cartopy.crs.PlateCarree()\n",
    "    # object transformation\n",
    "    transform = cartopy.crs.Geodetic()\n",
    "    ax0 = fig.add_subplot(1,1,1, projection=projection0)\n",
    "    plot_ground_path(ax0, df_sub, transform=transform)\n",
    "    ax0.set_title(title)\n",
    "    ax0.legend(loc='upper left')\n",
    "    plt.savefig(frames_directory + '/hodoyoshi_1_{:%Y%m%d%H%M%S}.jpg'.format(dt))\n",
    "    plt.cla()   # Clear axis\n",
    "    plt.clf()   # Clear figure\n",
    "    plt.close() # Close a figure window"
   ]
  },
  {
   "cell_type": "code",
   "execution_count": 6,
   "metadata": {},
   "outputs": [],
   "source": [
    "df.to_csv('hodoyoshi_1_2018.csv')"
   ]
  },
  {
   "cell_type": "markdown",
   "metadata": {},
   "source": [
    "### Create video"
   ]
  },
  {
   "cell_type": "code",
   "execution_count": 7,
   "metadata": {},
   "outputs": [],
   "source": [
    "def make_video(in_dir, out_dir):\n",
    "    p = Popen(['./make_video.sh \"{:}\" \"{:}\"'.format(in_dir, out_dir)], stdin=PIPE, stdout=PIPE, stderr=PIPE, shell=True)\n",
    "    output, err = p.communicate()\n",
    "    print(p.returncode)\n",
    "    #print(output.decode('utf-8'), err.decode('utf-8'))\n",
    "    del p\n",
    "    return None"
   ]
  },
  {
   "cell_type": "code",
   "execution_count": 8,
   "metadata": {},
   "outputs": [],
   "source": [
    "videos_directory = './videos'\n",
    "if not os.path.exists(videos_directory):\n",
    "    os.makedirs(videos_directory)"
   ]
  },
  {
   "cell_type": "code",
   "execution_count": 9,
   "metadata": {},
   "outputs": [
    {
     "name": "stdout",
     "output_type": "stream",
     "text": [
      "0\n"
     ]
    }
   ],
   "source": [
    "make_video(frames_directory + '/hodoyoshi_1_*.jpg', videos_directory + '/hodoyoshi_1_2018.mp4')"
   ]
  }
 ],
 "metadata": {
  "kernelspec": {
   "display_name": "Python 3",
   "language": "python",
   "name": "python3"
  },
  "language_info": {
   "codemirror_mode": {
    "name": "ipython",
    "version": 3
   },
   "file_extension": ".py",
   "mimetype": "text/x-python",
   "name": "python",
   "nbconvert_exporter": "python",
   "pygments_lexer": "ipython3",
   "version": "3.6.4"
  }
 },
 "nbformat": 4,
 "nbformat_minor": 2
}
