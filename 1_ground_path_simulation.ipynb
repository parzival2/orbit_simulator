{
 "cells": [
  {
   "cell_type": "markdown",
   "metadata": {},
   "source": [
    "# Ground path simulation\n",
    "\n",
    "Simulates ground path of a satellite in two reference frames:\n",
    "- [GCS](https://en.wikipedia.org/wiki/Geographic_coordinate_system) (geographic coordinate system, lat/lon/elevation)\n",
    "- [ECI](https://en.wikipedia.org/wiki/Earth-centered_inertial) (Earth-centered intertial, X/Y/Z) reference frames."
   ]
  },
  {
   "cell_type": "code",
   "execution_count": 1,
   "metadata": {},
   "outputs": [],
   "source": [
    "import os\n",
    "from skyfield.api import load\n",
    "from ground_path import ground_path\n",
    "import numpy as np\n",
    "from datetime import datetime"
   ]
  },
  {
   "cell_type": "markdown",
   "metadata": {},
   "source": [
    "### Load existing satellite from NORAD database"
   ]
  },
  {
   "cell_type": "code",
   "execution_count": 2,
   "metadata": {},
   "outputs": [
    {
     "name": "stdout",
     "output_type": "stream",
     "text": [
      "EarthSatellite 'HODOYOSHI 1' number=40299 epoch=2018-10-24T12:03:08Z\n"
     ]
    }
   ],
   "source": [
    "resource_url = 'http://celestrak.com/satcat/tle.php?CATNR=40299'\n",
    "\n",
    "fname = 'tle_hodoyoshi_1.txt'\n",
    "satellites = load.tle(resource_url, filename=fname, reload=False)\n",
    "\n",
    "satellite = satellites['HODOYOSHI 1']\n",
    "print(satellite)"
   ]
  },
  {
   "cell_type": "markdown",
   "metadata": {},
   "source": [
    "### Calculate ground path"
   ]
  },
  {
   "cell_type": "code",
   "execution_count": 3,
   "metadata": {},
   "outputs": [
    {
     "data": {
      "text/html": [
       "<div>\n",
       "<style scoped>\n",
       "    .dataframe tbody tr th:only-of-type {\n",
       "        vertical-align: middle;\n",
       "    }\n",
       "\n",
       "    .dataframe tbody tr th {\n",
       "        vertical-align: top;\n",
       "    }\n",
       "\n",
       "    .dataframe thead th {\n",
       "        text-align: right;\n",
       "    }\n",
       "</style>\n",
       "<table border=\"1\" class=\"dataframe\">\n",
       "  <thead>\n",
       "    <tr style=\"text-align: right;\">\n",
       "      <th></th>\n",
       "      <th>X</th>\n",
       "      <th>Y</th>\n",
       "      <th>Z</th>\n",
       "      <th>lat</th>\n",
       "      <th>lon</th>\n",
       "      <th>elevation</th>\n",
       "      <th>ascending</th>\n",
       "      <th>orbit</th>\n",
       "    </tr>\n",
       "    <tr>\n",
       "      <th>datetime</th>\n",
       "      <th></th>\n",
       "      <th></th>\n",
       "      <th></th>\n",
       "      <th></th>\n",
       "      <th></th>\n",
       "      <th></th>\n",
       "      <th></th>\n",
       "      <th></th>\n",
       "    </tr>\n",
       "  </thead>\n",
       "  <tbody>\n",
       "    <tr>\n",
       "      <th>2018-08-01 00:00:00+00:00</th>\n",
       "      <td>554.203355</td>\n",
       "      <td>-3178.014692</td>\n",
       "      <td>6054.771852</td>\n",
       "      <td>62.118186</td>\n",
       "      <td>-29.613950</td>\n",
       "      <td>499.094947</td>\n",
       "      <td>True</td>\n",
       "      <td>0</td>\n",
       "    </tr>\n",
       "    <tr>\n",
       "      <th>2018-08-01 00:00:30+00:00</th>\n",
       "      <td>459.746660</td>\n",
       "      <td>-2995.194778</td>\n",
       "      <td>6154.700398</td>\n",
       "      <td>63.944699</td>\n",
       "      <td>-30.921147</td>\n",
       "      <td>499.336186</td>\n",
       "      <td>True</td>\n",
       "      <td>0</td>\n",
       "    </tr>\n",
       "    <tr>\n",
       "      <th>2018-08-01 00:01:00+00:00</th>\n",
       "      <td>364.781322</td>\n",
       "      <td>-2809.061221</td>\n",
       "      <td>6247.800731</td>\n",
       "      <td>65.759775</td>\n",
       "      <td>-32.392397</td>\n",
       "      <td>499.569012</td>\n",
       "      <td>True</td>\n",
       "      <td>0</td>\n",
       "    </tr>\n",
       "    <tr>\n",
       "      <th>2018-08-01 00:01:30+00:00</th>\n",
       "      <td>269.412421</td>\n",
       "      <td>-2619.820087</td>\n",
       "      <td>6333.969878</td>\n",
       "      <td>67.560777</td>\n",
       "      <td>-34.066235</td>\n",
       "      <td>499.791700</td>\n",
       "      <td>True</td>\n",
       "      <td>0</td>\n",
       "    </tr>\n",
       "    <tr>\n",
       "      <th>2018-08-01 00:02:00+00:00</th>\n",
       "      <td>173.745475</td>\n",
       "      <td>-2427.680857</td>\n",
       "      <td>6413.112555</td>\n",
       "      <td>69.344170</td>\n",
       "      <td>-35.993558</td>\n",
       "      <td>500.002625</td>\n",
       "      <td>True</td>\n",
       "      <td>0</td>\n",
       "    </tr>\n",
       "  </tbody>\n",
       "</table>\n",
       "</div>"
      ],
      "text/plain": [
       "                                    X            Y            Z        lat  \\\n",
       "datetime                                                                     \n",
       "2018-08-01 00:00:00+00:00  554.203355 -3178.014692  6054.771852  62.118186   \n",
       "2018-08-01 00:00:30+00:00  459.746660 -2995.194778  6154.700398  63.944699   \n",
       "2018-08-01 00:01:00+00:00  364.781322 -2809.061221  6247.800731  65.759775   \n",
       "2018-08-01 00:01:30+00:00  269.412421 -2619.820087  6333.969878  67.560777   \n",
       "2018-08-01 00:02:00+00:00  173.745475 -2427.680857  6413.112555  69.344170   \n",
       "\n",
       "                                 lon   elevation  ascending  orbit  \n",
       "datetime                                                            \n",
       "2018-08-01 00:00:00+00:00 -29.613950  499.094947       True      0  \n",
       "2018-08-01 00:00:30+00:00 -30.921147  499.336186       True      0  \n",
       "2018-08-01 00:01:00+00:00 -32.392397  499.569012       True      0  \n",
       "2018-08-01 00:01:30+00:00 -34.066235  499.791700       True      0  \n",
       "2018-08-01 00:02:00+00:00 -35.993558  500.002625       True      0  "
      ]
     },
     "execution_count": 3,
     "metadata": {},
     "output_type": "execute_result"
    }
   ],
   "source": [
    "date_from = datetime(2018,8,1,0,0,0,0)\n",
    "date_to = datetime(2018,8,2,0,0,0,0)\n",
    "freq = 30 # generate data point every 30 seconds\n",
    "df = ground_path(satellite, date_from, date_to, freq)\n",
    "df.head()"
   ]
  },
  {
   "cell_type": "code",
   "execution_count": 4,
   "metadata": {},
   "outputs": [
    {
     "name": "stdout",
     "output_type": "stream",
     "text": [
      "<class 'pandas.core.frame.DataFrame'>\n",
      "DatetimeIndex: 2880 entries, 2018-08-01 00:00:00+00:00 to 2018-08-01 23:59:30+00:00\n",
      "Data columns (total 8 columns):\n",
      "X            2880 non-null float64\n",
      "Y            2880 non-null float64\n",
      "Z            2880 non-null float64\n",
      "lat          2880 non-null float64\n",
      "lon          2880 non-null float64\n",
      "elevation    2880 non-null float64\n",
      "ascending    2880 non-null bool\n",
      "orbit        2880 non-null int64\n",
      "dtypes: bool(1), float64(6), int64(1)\n",
      "memory usage: 182.8 KB\n"
     ]
    }
   ],
   "source": [
    "df.info()"
   ]
  },
  {
   "cell_type": "code",
   "execution_count": 5,
   "metadata": {},
   "outputs": [],
   "source": [
    "# save as CSV file\n",
    "df.to_csv('ground_path_hodoyoshi.csv')"
   ]
  },
  {
   "cell_type": "markdown",
   "metadata": {},
   "source": [
    "## Statistics"
   ]
  },
  {
   "cell_type": "code",
   "execution_count": 6,
   "metadata": {},
   "outputs": [
    {
     "data": {
      "text/plain": [
       "657346.5005044239"
      ]
     },
     "execution_count": 6,
     "metadata": {},
     "output_type": "execute_result"
    }
   ],
   "source": [
    "# Total distance approximation\n",
    "pos = df[['X', 'Y', 'Z']]\n",
    "dist = np.linalg.norm((pos - pos.shift()).dropna(), axis=1)\n",
    "dist.sum()"
   ]
  },
  {
   "cell_type": "code",
   "execution_count": 7,
   "metadata": {},
   "outputs": [
    {
     "data": {
      "text/html": [
       "<div>\n",
       "<style scoped>\n",
       "    .dataframe tbody tr th:only-of-type {\n",
       "        vertical-align: middle;\n",
       "    }\n",
       "\n",
       "    .dataframe tbody tr th {\n",
       "        vertical-align: top;\n",
       "    }\n",
       "\n",
       "    .dataframe thead th {\n",
       "        text-align: right;\n",
       "    }\n",
       "</style>\n",
       "<table border=\"1\" class=\"dataframe\">\n",
       "  <thead>\n",
       "    <tr style=\"text-align: right;\">\n",
       "      <th></th>\n",
       "      <th>elevation</th>\n",
       "      <th>lon</th>\n",
       "      <th>lat</th>\n",
       "    </tr>\n",
       "  </thead>\n",
       "  <tbody>\n",
       "    <tr>\n",
       "      <th>min</th>\n",
       "      <td>495.165387</td>\n",
       "      <td>-179.865451</td>\n",
       "      <td>-82.669256</td>\n",
       "    </tr>\n",
       "    <tr>\n",
       "      <th>max</th>\n",
       "      <td>534.512578</td>\n",
       "      <td>179.997911</td>\n",
       "      <td>82.669739</td>\n",
       "    </tr>\n",
       "  </tbody>\n",
       "</table>\n",
       "</div>"
      ],
      "text/plain": [
       "      elevation         lon        lat\n",
       "min  495.165387 -179.865451 -82.669256\n",
       "max  534.512578  179.997911  82.669739"
      ]
     },
     "execution_count": 7,
     "metadata": {},
     "output_type": "execute_result"
    }
   ],
   "source": [
    "df[['elevation', 'lon', 'lat']].agg(['min', 'max'])"
   ]
  },
  {
   "cell_type": "code",
   "execution_count": 8,
   "metadata": {},
   "outputs": [
    {
     "data": {
      "text/html": [
       "<div>\n",
       "<style scoped>\n",
       "    .dataframe tbody tr th:only-of-type {\n",
       "        vertical-align: middle;\n",
       "    }\n",
       "\n",
       "    .dataframe tbody tr th {\n",
       "        vertical-align: top;\n",
       "    }\n",
       "\n",
       "    .dataframe thead th {\n",
       "        text-align: right;\n",
       "    }\n",
       "</style>\n",
       "<table border=\"1\" class=\"dataframe\">\n",
       "  <thead>\n",
       "    <tr style=\"text-align: right;\">\n",
       "      <th></th>\n",
       "      <th>elevation</th>\n",
       "    </tr>\n",
       "  </thead>\n",
       "  <tbody>\n",
       "    <tr>\n",
       "      <th>count</th>\n",
       "      <td>2880.000000</td>\n",
       "    </tr>\n",
       "    <tr>\n",
       "      <th>mean</th>\n",
       "      <td>508.811566</td>\n",
       "    </tr>\n",
       "    <tr>\n",
       "      <th>std</th>\n",
       "      <td>13.340070</td>\n",
       "    </tr>\n",
       "    <tr>\n",
       "      <th>min</th>\n",
       "      <td>495.165387</td>\n",
       "    </tr>\n",
       "    <tr>\n",
       "      <th>25%</th>\n",
       "      <td>498.136634</td>\n",
       "    </tr>\n",
       "    <tr>\n",
       "      <th>50%</th>\n",
       "      <td>501.170742</td>\n",
       "    </tr>\n",
       "    <tr>\n",
       "      <th>75%</th>\n",
       "      <td>520.436724</td>\n",
       "    </tr>\n",
       "    <tr>\n",
       "      <th>max</th>\n",
       "      <td>534.512578</td>\n",
       "    </tr>\n",
       "  </tbody>\n",
       "</table>\n",
       "</div>"
      ],
      "text/plain": [
       "         elevation\n",
       "count  2880.000000\n",
       "mean    508.811566\n",
       "std      13.340070\n",
       "min     495.165387\n",
       "25%     498.136634\n",
       "50%     501.170742\n",
       "75%     520.436724\n",
       "max     534.512578"
      ]
     },
     "execution_count": 8,
     "metadata": {},
     "output_type": "execute_result"
    }
   ],
   "source": [
    "df[['elevation']].describe()"
   ]
  }
 ],
 "metadata": {
  "kernelspec": {
   "display_name": "Python 3",
   "language": "python",
   "name": "python3"
  },
  "language_info": {
   "codemirror_mode": {
    "name": "ipython",
    "version": 3
   },
   "file_extension": ".py",
   "mimetype": "text/x-python",
   "name": "python",
   "nbconvert_exporter": "python",
   "pygments_lexer": "ipython3",
   "version": "3.6.4"
  }
 },
 "nbformat": 4,
 "nbformat_minor": 2
}
